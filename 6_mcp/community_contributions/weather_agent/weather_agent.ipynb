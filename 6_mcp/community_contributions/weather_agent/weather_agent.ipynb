{
 "cells": [
  {
   "cell_type": "code",
   "execution_count": 1,
   "id": "28ab27eb",
   "metadata": {},
   "outputs": [
    {
     "data": {
      "text/plain": [
       "True"
      ]
     },
     "execution_count": 1,
     "metadata": {},
     "output_type": "execute_result"
    }
   ],
   "source": [
    "from IPython.display import display, Markdown\n",
    "from agents import Agent, Runner, trace\n",
    "from agents.mcp import MCPServerStdio\n",
    "from dotenv import load_dotenv\n",
    "from weather import Weather \n",
    "\n",
    "load_dotenv(override=True)"
   ]
  },
  {
   "cell_type": "code",
   "execution_count": 2,
   "id": "dfee5591",
   "metadata": {},
   "outputs": [
    {
     "data": {
      "text/plain": [
       "{'success': True, 'weather': 'Sunny'}"
      ]
     },
     "execution_count": 2,
     "metadata": {},
     "output_type": "execute_result"
    }
   ],
   "source": [
    "# Test the weather API\n",
    "# Weather.get_city_temperature(\"Budapest\")\n",
    "Weather.get_city_weather(\"Budapest\")"
   ]
  },
  {
   "cell_type": "code",
   "execution_count": 3,
   "id": "5295d009",
   "metadata": {},
   "outputs": [
    {
     "data": {
      "text/plain": [
       "[Tool(name='get_city_temperature', description='Get the temperature of the given City.\\n\\n    Args:\\n        city: the name of the city\\n    ', inputSchema={'properties': {'city': {'title': 'City', 'type': 'string'}}, 'required': ['city'], 'title': 'get_city_temperatureArguments', 'type': 'object'}, annotations=None),\n",
       " Tool(name='get_city_weather', description='Get the weather of the given City.\\n\\n    Args:\\n        city: the name of the city\\n    ', inputSchema={'properties': {'city': {'title': 'City', 'type': 'string'}}, 'required': ['city'], 'title': 'get_city_weatherArguments', 'type': 'object'}, annotations=None),\n",
       " Tool(name='get_city_humidity', description='Get the humidity of the given City.\\n\\n    Args:\\n        city: the name of the city\\n    ', inputSchema={'properties': {'city': {'title': 'City', 'type': 'string'}}, 'required': ['city'], 'title': 'get_city_humidityArguments', 'type': 'object'}, annotations=None)]"
      ]
     },
     "execution_count": 3,
     "metadata": {},
     "output_type": "execute_result"
    }
   ],
   "source": [
    "params = {\"command\": \"uv\", \"args\": [\"run\", \"weather_server.py\"]}\n",
    "async with MCPServerStdio(params=params, client_session_timeout_seconds=30) as server:\n",
    "    mcp_tools = await server.list_tools()\n",
    "\n",
    "mcp_tools"
   ]
  },
  {
   "cell_type": "code",
   "execution_count": 4,
   "id": "0ea3a827",
   "metadata": {},
   "outputs": [],
   "source": [
    "instructions = \"You are able answer weather related questions, when a user asks you about the weather of a given city\"\n",
    "request = \"What's the temperature in Budapest?\"\n",
    "model = \"gpt-4.1-mini\"  "
   ]
  },
  {
   "cell_type": "code",
   "execution_count": 5,
   "id": "88cd5638",
   "metadata": {},
   "outputs": [
    {
     "data": {
      "text/markdown": [
       "The temperature in Budapest is currently 10.1°C."
      ],
      "text/plain": [
       "<IPython.core.display.Markdown object>"
      ]
     },
     "metadata": {},
     "output_type": "display_data"
    }
   ],
   "source": [
    "async with MCPServerStdio(params=params, client_session_timeout_seconds=30) as mcp_server:\n",
    "    agent = Agent(name=\"weather_specialist\", instructions=instructions, model=model, mcp_servers=[mcp_server])\n",
    "    with trace(\"weather_specialist\"):\n",
    "        result = await Runner.run(agent, request)\n",
    "    display(Markdown(result.final_output))\n"
   ]
  }
 ],
 "metadata": {
  "kernelspec": {
   "display_name": ".venv",
   "language": "python",
   "name": "python3"
  },
  "language_info": {
   "codemirror_mode": {
    "name": "ipython",
    "version": 3
   },
   "file_extension": ".py",
   "mimetype": "text/x-python",
   "name": "python",
   "nbconvert_exporter": "python",
   "pygments_lexer": "ipython3",
   "version": "3.12.3"
  }
 },
 "nbformat": 4,
 "nbformat_minor": 5
}
